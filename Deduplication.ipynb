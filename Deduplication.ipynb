{
 "cells": [
  {
   "cell_type": "code",
   "execution_count": 38,
   "metadata": {},
   "outputs": [],
   "source": [
    "import dedupe\n",
    "import csv"
   ]
  },
  {
   "cell_type": "code",
   "execution_count": 39,
   "metadata": {},
   "outputs": [],
   "source": [
    "f=open('sample_input','r')  #training dataset\n",
    "c=csv.DictReader(f)"
   ]
  },
  {
   "cell_type": "code",
   "execution_count": 40,
   "metadata": {},
   "outputs": [],
   "source": [
    "row=1\n",
    "data={}\n",
    "for line in c:\n",
    "    data[row]=line\n",
    "    row+=1\n",
    "    \n",
    "f.close()"
   ]
  },
  {
   "cell_type": "markdown",
   "metadata": {},
   "source": [
    "### First ten items:"
   ]
  },
  {
   "cell_type": "code",
   "execution_count": 87,
   "metadata": {
    "scrolled": true
   },
   "outputs": [
    {
     "data": {
      "text/plain": [
       "[(1, {'dob': '01-03-1968', 'fn': 'WILLIAM', 'gn': 'F', 'ln': 'SMITH JR'}),\n",
       " (2, {'dob': '01-03-1968', 'fn': 'WILLIAM', 'gn': 'F', 'ln': 'ROTHMEYER JR'}),\n",
       " (3, {'dob': '01-03-1968', 'fn': 'WILLIAM', 'gn': 'F', 'ln': 'ASBY JR'}),\n",
       " (4, {'dob': '01-03-1968', 'fn': 'WILLIAM', 'gn': 'F', 'ln': 'SALTER JR'}),\n",
       " (5, {'dob': '01-03-1968', 'fn': 'WILLIAM', 'gn': 'F', 'ln': 'SALTER JR'}),\n",
       " (6, {'dob': '21-02-1962', 'fn': 'WILLIAM', 'gn': 'F', 'ln': 'BLAND JR'}),\n",
       " (7, {'dob': '21-02-1962', 'fn': 'WILLIAM', 'gn': 'F', 'ln': 'BLAND JR'}),\n",
       " (8, {'dob': '21-02-1962', 'fn': 'WILLIAM', 'gn': 'F', 'ln': 'BLAND JR'}),\n",
       " (9, {'dob': '21-02-1962', 'fn': 'WILLIAM', 'gn': 'F', 'ln': 'SHAFFER JR'}),\n",
       " (10, {'dob': '21-02-1962', 'fn': 'WILLIAM', 'gn': 'F', 'ln': 'SHAFFER JR'})]"
      ]
     },
     "execution_count": 87,
     "metadata": {},
     "output_type": "execute_result"
    }
   ],
   "source": [
    "data.items()[:10]"
   ]
  },
  {
   "cell_type": "code",
   "execution_count": 42,
   "metadata": {},
   "outputs": [],
   "source": [
    "variables=[\n",
    "             {'field' : 'ln', 'type': 'String'},\n",
    "             {'field' : 'dob', 'type': 'String'},\n",
    "             {'field' : 'fn', 'type': 'String'},\n",
    "             {'field' : 'gn', 'type': 'String'}\n",
    "             ]"
   ]
  },
  {
   "cell_type": "code",
   "execution_count": 43,
   "metadata": {},
   "outputs": [],
   "source": [
    "deduper = dedupe.Dedupe(variables)"
   ]
  },
  {
   "cell_type": "code",
   "execution_count": 44,
   "metadata": {},
   "outputs": [
    {
     "name": "stderr",
     "output_type": "stream",
     "text": [
      "c:\\users\\user\\miniconda2\\lib\\site-packages\\dedupe\\sampling.py:39: UserWarning: 35 blocked samples were requested, but only able to sample 32\n",
      "  % (sample_size, len(blocked_sample)))\n"
     ]
    }
   ],
   "source": [
    "deduper.sample(data,sample_size=70)"
   ]
  },
  {
   "cell_type": "markdown",
   "metadata": {},
   "source": [
    "### Checking for uncertain pairs"
   ]
  },
  {
   "cell_type": "code",
   "execution_count": null,
   "metadata": {},
   "outputs": [],
   "source": [
    "pair=deduper.uncertainPairs()"
   ]
  },
  {
   "cell_type": "code",
   "execution_count": 51,
   "metadata": {},
   "outputs": [
    {
     "data": {
      "text/plain": [
       "[({'dob': '25-10-1953', 'fn': 'WILLIAM', 'gn': 'F', 'ln': 'BLAND JR'},\n",
       "  {'dob': '25-10-1953', 'fn': 'ROY', 'gn': 'M', 'ln': 'MICHAELSON'})]"
      ]
     },
     "execution_count": 51,
     "metadata": {},
     "output_type": "execute_result"
    }
   ],
   "source": [
    "pair"
   ]
  },
  {
   "cell_type": "code",
   "execution_count": 52,
   "metadata": {},
   "outputs": [],
   "source": [
    "labeled_examples = {'match'    : [],\n",
    "                   'distinct' : pair}"
   ]
  },
  {
   "cell_type": "code",
   "execution_count": 53,
   "metadata": {},
   "outputs": [],
   "source": [
    "deduper.markPairs(labeled_examples)"
   ]
  },
  {
   "cell_type": "markdown",
   "metadata": {},
   "source": [
    "### Checking once again for better results (can be repeated as many times as possible)"
   ]
  },
  {
   "cell_type": "code",
   "execution_count": 107,
   "metadata": {},
   "outputs": [],
   "source": [
    "pair=deduper.uncertainPairs()"
   ]
  },
  {
   "cell_type": "code",
   "execution_count": 108,
   "metadata": {},
   "outputs": [
    {
     "data": {
      "text/plain": [
       "[({'dob': '21-02-1962', 'fn': 'WILLIAM', 'gn': 'F', 'ln': 'BLAND JR'},\n",
       "  {'dob': '08-06-1954', 'fn': 'WILLIAM', 'gn': 'F', 'ln': 'BLAND JR'})]"
      ]
     },
     "execution_count": 108,
     "metadata": {},
     "output_type": "execute_result"
    }
   ],
   "source": [
    "pair"
   ]
  },
  {
   "cell_type": "code",
   "execution_count": 109,
   "metadata": {},
   "outputs": [],
   "source": [
    "labeled_examples = {'match'    : ,\n",
    "                   'distinct' : []}"
   ]
  },
  {
   "cell_type": "code",
   "execution_count": 110,
   "metadata": {},
   "outputs": [
    {
     "name": "stderr",
     "output_type": "stream",
     "text": [
      "INFO:dedupe.training:Final predicate set:\n",
      "INFO:dedupe.training:(SimplePredicate: (commonTwoTokens, ln), TfidfNGramCanopyPredicate: (0.4, fn))\n"
     ]
    }
   ],
   "source": [
    "deduper.markPairs(labeled_examples)"
   ]
  },
  {
   "cell_type": "markdown",
   "metadata": {},
   "source": [
    "### Training"
   ]
  },
  {
   "cell_type": "code",
   "execution_count": 111,
   "metadata": {},
   "outputs": [
    {
     "name": "stderr",
     "output_type": "stream",
     "text": [
      "INFO:rlr.crossvalidation:using cross validation to find optimum alpha...\n",
      "INFO:rlr.crossvalidation:optimum alpha: 0.000010, score 0.126126126126\n",
      "INFO:dedupe.training:Final predicate set:\n",
      "INFO:dedupe.training:(SimplePredicate: (commonTwoTokens, ln), TfidfNGramCanopyPredicate: (0.4, fn))\n"
     ]
    }
   ],
   "source": [
    "deduper.train()"
   ]
  },
  {
   "cell_type": "code",
   "execution_count": 112,
   "metadata": {},
   "outputs": [],
   "source": [
    "with open('trained_labels.json', 'w+') as f:\n",
    "    deduper.writeTraining(f)\n",
    "with open('learned_settings', 'wb') as f:\n",
    "    deduper.writeSettings(f)"
   ]
  },
  {
   "cell_type": "code",
   "execution_count": 113,
   "metadata": {},
   "outputs": [
    {
     "name": "stderr",
     "output_type": "stream",
     "text": [
      "INFO:dedupe.api:Maximum expected recall and precision\n",
      "INFO:dedupe.api:recall: 1.000\n",
      "INFO:dedupe.api:precision: 1.000\n",
      "INFO:dedupe.api:With threshold: 1.000\n"
     ]
    }
   ],
   "source": [
    "threshold = deduper.threshold(data, recall_weight=2)"
   ]
  },
  {
   "cell_type": "code",
   "execution_count": 114,
   "metadata": {},
   "outputs": [],
   "source": [
    "duplicates=deduper.match(data,threshold)"
   ]
  },
  {
   "cell_type": "code",
   "execution_count": 115,
   "metadata": {},
   "outputs": [],
   "source": [
    "clusters=[]\n",
    "for x in duplicates:\n",
    "    clusters.append(x[0])"
   ]
  },
  {
   "cell_type": "code",
   "execution_count": 116,
   "metadata": {},
   "outputs": [],
   "source": [
    "first_elements=[]\n",
    "duplicates=[]\n",
    "for cluster in clusters:\n",
    "    first_elements.append(cluster[0])\n",
    "    duplicates.extend(list(cluster))\n",
    "\n",
    "\n",
    "non_duplicates=list(set(range(1,104))-set(duplicates))"
   ]
  },
  {
   "cell_type": "markdown",
   "metadata": {},
   "source": [
    "### Write output to file"
   ]
  },
  {
   "cell_type": "code",
   "execution_count": 124,
   "metadata": {
    "scrolled": false
   },
   "outputs": [],
   "source": [
    "fout=csv.writer(open('sample_output.csv','w+'))\n",
    "for row_id in data:\n",
    "    if row_id in non_duplicates or row_id in first_elements:\n",
    "        fout.writerow(data[row_id].values())"
   ]
  }
 ],
 "metadata": {
  "kernelspec": {
   "display_name": "Python [default]",
   "language": "python",
   "name": "python2"
  },
  "language_info": {
   "codemirror_mode": {
    "name": "ipython",
    "version": 2
   },
   "file_extension": ".py",
   "mimetype": "text/x-python",
   "name": "python",
   "nbconvert_exporter": "python",
   "pygments_lexer": "ipython2",
   "version": "2.7.14"
  }
 },
 "nbformat": 4,
 "nbformat_minor": 2
}
